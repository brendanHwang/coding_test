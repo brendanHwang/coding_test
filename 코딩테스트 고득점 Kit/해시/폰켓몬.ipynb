{
 "cells": [
  {
   "cell_type": "markdown",
   "metadata": {},
   "source": [
    "(폰케몬) https://school.programmers.co.kr/learn/courses/30/lessons/1845"
   ]
  },
  {
   "cell_type": "markdown",
   "metadata": {},
   "source": [
    "## 나의 풀이\n",
    "- 이전 문제에서 배운 Counter (hash로 구현된 dict)를 사용하여 풀었다.\n",
    "- Counter를 사용하면 각 원소의 개수를 쉽게 구할 수 있다.\n",
    "\n",
    "### 문제점\n",
    "- 정수형 나눗셈을 상요하지 않았다 (//)\n",
    "- return 할 때 min()을 사용하지 않았다."
   ]
  },
  {
   "cell_type": "code",
   "execution_count": 2,
   "metadata": {},
   "outputs": [],
   "source": [
    "from collections import Counter\n",
    "def solution(nums):\n",
    "    nums_counter_n = len(Counter(nums))\n",
    "    half_n = len(nums)/2\n",
    "    return half_n if  nums_counter_n> half_n else nums_counter_n"
   ]
  },
  {
   "cell_type": "markdown",
   "metadata": {},
   "source": [
    "## 더 좋은 풀이1 (Counter 사용)\n"
   ]
  },
  {
   "cell_type": "code",
   "execution_count": 4,
   "metadata": {},
   "outputs": [],
   "source": [
    "from collections import Counter\n",
    "\n",
    "def solution(nums):\n",
    "    unique_pokemon_count = len(Counter(nums))\n",
    "    max_possible_count = len(nums) // 2\n",
    "    return min(unique_pokemon_count, max_possible_count)\n",
    "\n",
    "\n"
   ]
  },
  {
   "cell_type": "markdown",
   "metadata": {},
   "source": [
    "## 더 좋은 풀이2 (set 사용)"
   ]
  },
  {
   "cell_type": "code",
   "execution_count": 5,
   "metadata": {},
   "outputs": [],
   "source": [
    "def solution(nums):\n",
    "    unique_pokemon = len(set(nums))\n",
    "    max_possible = len(nums) // 2\n",
    "    return min(unique_pokemon, max_possible)"
   ]
  },
  {
   "cell_type": "code",
   "execution_count": null,
   "metadata": {},
   "outputs": [],
   "source": []
  }
 ],
 "metadata": {
  "kernelspec": {
   "display_name": "Python 3",
   "language": "python",
   "name": "python3"
  },
  "language_info": {
   "codemirror_mode": {
    "name": "ipython",
    "version": 3
   },
   "file_extension": ".py",
   "mimetype": "text/x-python",
   "name": "python",
   "nbconvert_exporter": "python",
   "pygments_lexer": "ipython3",
   "version": "3.11.5"
  }
 },
 "nbformat": 4,
 "nbformat_minor": 2
}
