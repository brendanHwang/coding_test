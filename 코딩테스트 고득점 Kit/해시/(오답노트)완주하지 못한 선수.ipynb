{
 "cells": [
  {
   "cell_type": "markdown",
   "metadata": {},
   "source": [
    "(완주하지 못한 선수) https://school.programmers.co.kr/learn/courses/30/lessons/42576"
   ]
  },
  {
   "cell_type": "markdown",
   "metadata": {},
   "source": [
    "## 풀지 못함\n",
    "- set을 이용해서 하면 쉽게 해결할 수 있을 거 같은데, 풀지 못했다."
   ]
  },
  {
   "cell_type": "markdown",
   "metadata": {},
   "source": [
    "## 정답\n",
    "- collections.Counter를 이용해서 풀었다.\n",
    "- Counter는 리스트를 hash 형태로 변환해주는데, key는 리스트의 값, value는 리스트의 값의 개수가 된다.\n",
    "- Counter를 이용해서 participant와 completion을 각각 Counter로 변환한 후, 두 Counter의 차집합을 구하면 완주하지 못한 선수가 나온다.\n",
    "- 최종 경과는 list로 변환해서 0번째 값을 리턴하면 된다.\n",
    "- list로 변환하면 key값만 리스트로 변환되기 때문에, 0번째 값을 리턴하면 완주하지 못한 선수가 나온다.\n"
   ]
  },
  {
   "cell_type": "code",
   "execution_count": 5,
   "metadata": {},
   "outputs": [],
   "source": [
    "from collections import Counter\n",
    "def solution(participant, completion):\n",
    "    participant_counter = Counter(participant)\n",
    "    completion_counter = Counter(completion)\n",
    "    return list(participant_counter - completion_counter)[0]"
   ]
  },
  {
   "cell_type": "code",
   "execution_count": 6,
   "metadata": {},
   "outputs": [
    {
     "data": {
      "text/plain": [
       "'leo'"
      ]
     },
     "execution_count": 6,
     "metadata": {},
     "output_type": "execute_result"
    }
   ],
   "source": [
    "solution([\"leo\", \"kiki\", \"eden\"],[\"eden\", \"kiki\"])"
   ]
  },
  {
   "cell_type": "code",
   "execution_count": null,
   "metadata": {},
   "outputs": [],
   "source": []
  }
 ],
 "metadata": {
  "kernelspec": {
   "display_name": "Python 3",
   "language": "python",
   "name": "python3"
  },
  "language_info": {
   "codemirror_mode": {
    "name": "ipython",
    "version": 3
   },
   "file_extension": ".py",
   "mimetype": "text/x-python",
   "name": "python",
   "nbconvert_exporter": "python",
   "pygments_lexer": "ipython3",
   "version": "3.11.5"
  }
 },
 "nbformat": 4,
 "nbformat_minor": 2
}
