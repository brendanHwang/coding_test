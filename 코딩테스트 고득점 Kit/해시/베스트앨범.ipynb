{
 "cells": [
  {
   "cell_type": "markdown",
   "metadata": {},
   "source": [
    "(베스트앨범) https://school.programmers.co.kr/learn/courses/30/lessons/42579"
   ]
  },
  {
   "cell_type": "markdown",
   "metadata": {},
   "source": [
    "## 나의 풀이\n",
    "- total_plays 함수를 통해서 각 장르별 총 재생횟수를 구한다.\n",
    "- hash_indexes 함수를 통해서 각 장르별 재생횟수가 높은 순서대로 인덱스를 정렬한다. (genres_hash_indexes)\n",
    "- total_plays 함수를 통해서 나온 반환 값을 재생횟수가 높은 순서대로 정렬한다. (sorted_total_plays)\n",
    "- sorted_total_plays 를 순회하면서 장르별로 최대 2개씩 뽑아서 answer 에 담는다."
   ]
  },
  {
   "cell_type": "markdown",
   "metadata": {},
   "source": [
    "####  def hash_indexes(genres,plays): 를 구현하면서 과정\n",
    "- 각 genre에 해당하는 것을 우선 index와 재생횟수를 tuple로 묶어 list에 담는다. (genre_indexes)\n",
    "- genre_indexes를 재생횟수가 높은 순서대로 정렬한다. (sorted_genre_indexes)\n",
    "- 각 장르별 genre_indexes를 만들어준다 (genres_hash_indexes)"
   ]
  },
  {
   "cell_type": "code",
   "execution_count": 40,
   "metadata": {},
   "outputs": [],
   "source": [
    "from collections import Counter\n",
    "\n",
    "def total_plays(genres, plays):\n",
    "    total_plays = {}\n",
    "    for i in range(len(genres)):\n",
    "        total_plays[genres[i]] = total_plays.get(genres[i],0) + plays[i]\n",
    "    \n",
    "    return total_plays\n",
    "\n",
    "def hash_indexes(genres,plays):\n",
    "    genres_hash_indexes = {}\n",
    "    for genres_idx , genre in enumerate(genres):\n",
    "        # print(genre)\n",
    "        if genre not in genres_hash_indexes:\n",
    "            genre_indexes = [(index, plays[index]) for index in range(len(genres)) if genres[index] == genre]\n",
    "            # print(f\"genre_indexes: {genre_indexes}\")\n",
    "            sorted_genre_index = sorted(genre_indexes, key= lambda x:x[1], reverse=True)\n",
    "            # print(f\"sorted_genre_index: {sorted_genre_index}\")\n",
    "            genres_hash_indexes[genre] = [index for index,value in sorted_genre_index]\n",
    "    return genres_hash_indexes\n",
    "\n",
    "\n",
    "def solution(genres, plays):\n",
    "    genres_hash_indexes = hash_indexes(genres,plays)\n",
    "    sorted_total_plays = sorted(list(total_plays(genres, plays).items()), key=lambda x: x[1], reverse=True)\n",
    "    \n",
    "    answer = []\n",
    "    for genre, plays in sorted_total_plays: # 많이 재생된 장르부터\n",
    "        if len(genres_hash_indexes[genre]) <=2:\n",
    "            answer += genres_hash_indexes[genre]\n",
    "        else:\n",
    "            answer += genres_hash_indexes[genre][:2]\n",
    "    return answer"
   ]
  },
  {
   "cell_type": "markdown",
   "metadata": {},
   "source": [
    "### 다른 풀이"
   ]
  },
  {
   "cell_type": "markdown",
   "metadata": {},
   "source": [
    "- zip 함수를 쓰면 tuple로 묶어서 iterable한 객체를 만들어준다.\n",
    "- for i, (genre, play) in enumerate(zip(genres, plays)):\n",
    "\n"
   ]
  },
  {
   "cell_type": "code",
   "execution_count": null,
   "metadata": {},
   "outputs": [],
   "source": [
    "def solution(genres, plays):\n",
    "    genre_play_count = {}\n",
    "    song_list_by_genre = {}\n",
    "\n",
    "    # 장르별 총 재생 횟수와 노래별 재생 횟수를 계산\n",
    "    for i, (genre, play) in enumerate(zip(genres, plays)):\n",
    "        genre_play_count[genre] = genre_play_count.get(genre, 0) + play\n",
    "        song_list_by_genre.setdefault(genre, []).append((i, play))\n",
    "    \n",
    "    # 장르별 총 재생 횟수를 기준으로 내림차순 정렬\n",
    "    sorted_genres = sorted(genre_play_count, key=genre_play_count.get, reverse=True)\n",
    "\n",
    "    answer = []\n",
    "    for genre in sorted_genres:\n",
    "        # 각 장르별 노래를 재생 횟수 및 고유 번호 순으로 정렬\n",
    "        sorted_songs = sorted(song_list_by_genre[genre], key=lambda x: (-x[1], x[0]))\n",
    "        # 최대 2개의 노래 고유 번호 추가\n",
    "        answer.extend([song_id for song_id, _ in sorted_songs[:2]])\n",
    "\n",
    "    return answer\n"
   ]
  },
  {
   "cell_type": "code",
   "execution_count": 50,
   "metadata": {},
   "outputs": [
    {
     "data": {
      "text/plain": [
       "\"zip(*iterables, strict=False) --> Yield tuples until an input is exhausted.\\n\\n   >>> list(zip('abcdefg', range(3), range(4)))\\n   [('a', 0, 0), ('b', 1, 1), ('c', 2, 2)]\\n\\nThe zip object yields n-length tuples, where n is the number of iterables\\npassed as positional arguments to zip().  The i-th element in every tuple\\ncomes from the i-th iterable argument to zip().  This continues until the\\nshortest argument is exhausted.\\n\\nIf strict is true and one of the arguments is exhausted before the others,\\nraise a ValueError.\""
      ]
     },
     "execution_count": 50,
     "metadata": {},
     "output_type": "execute_result"
    }
   ],
   "source": []
  },
  {
   "cell_type": "code",
   "execution_count": null,
   "metadata": {},
   "outputs": [],
   "source": []
  }
 ],
 "metadata": {
  "kernelspec": {
   "display_name": "Python 3",
   "language": "python",
   "name": "python3"
  },
  "language_info": {
   "codemirror_mode": {
    "name": "ipython",
    "version": 3
   },
   "file_extension": ".py",
   "mimetype": "text/x-python",
   "name": "python",
   "nbconvert_exporter": "python",
   "pygments_lexer": "ipython3",
   "version": "3.11.5"
  }
 },
 "nbformat": 4,
 "nbformat_minor": 2
}
