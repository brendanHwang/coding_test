{
 "cells": [
  {
   "cell_type": "markdown",
   "metadata": {},
   "source": [
    "(의상) https://school.programmers.co.kr/learn/courses/30/lessons/42578"
   ]
  },
  {
   "cell_type": "markdown",
   "metadata": {},
   "source": [
    "## 내 풀이\n",
    "- itertools의 combinations를 사용하여 모든 조합을 구한다.\n",
    "- touple의 값들을 곱하여 모든 경우의 수를 구한다. (from math import prod)\n",
    "- 시간 초과"
   ]
  },
  {
   "cell_type": "code",
   "execution_count": 15,
   "metadata": {},
   "outputs": [],
   "source": [
    "from itertools import combinations\n",
    "from math import prod\n",
    "\n",
    "def double_arr_to_count_list(double_arr):\n",
    "    count_hash : dict = {}\n",
    "    for single_arr in double_arr:\n",
    "        key = single_arr[1]\n",
    "        if key in count_hash:\n",
    "            count_hash[key] +=1\n",
    "        else:\n",
    "            count_hash[key] =1\n",
    "    return list(count_hash.values())\n",
    "\n",
    "\n",
    "def solution(clothes):\n",
    "    count_list = double_arr_to_count_list(clothes)\n",
    "    answer = 0 \n",
    "    for i in range(len(count_list)):\n",
    "        for c in combinations(count_list,i+1):\n",
    "            answer += prod(c)\n",
    "    return answer"
   ]
  },
  {
   "cell_type": "markdown",
   "metadata": {},
   "source": [
    "## 정답\n",
    "- 아무도 입지 않는 경우의 수를 생각해서 더 빠르게 구함\n",
    "- 각 옷에 대한 개수를 구하고, 아무도 입지 않는 경우를 고려하여 모두 곱한다.\n",
    "- 마지막에 아무도 입지 않는 경우를 빼준다."
   ]
  },
  {
   "cell_type": "markdown",
   "metadata": {},
   "source": [
    "- python에서 list가 매번 반환되는 경우 각 원소를 받을 수도 있다\n",
    "- count_hash.get(item,0) : item이 없으면 0을 반환한다. (default 값)"
   ]
  },
  {
   "cell_type": "code",
   "execution_count": 63,
   "metadata": {},
   "outputs": [],
   "source": [
    "def solution(clothes):\n",
    "    count_hash = {}\n",
    "    for item, category in clothes:\n",
    "        count_hash[category] = count_hash.get(item,0) + 1\n",
    "    answer = 1\n",
    "    for count in count_hash.values():\n",
    "        answer *= (count + 1)\n",
    "    return answer - 1"
   ]
  },
  {
   "cell_type": "code",
   "execution_count": null,
   "metadata": {},
   "outputs": [],
   "source": []
  }
 ],
 "metadata": {
  "kernelspec": {
   "display_name": "Python 3",
   "language": "python",
   "name": "python3"
  },
  "language_info": {
   "codemirror_mode": {
    "name": "ipython",
    "version": 3
   },
   "file_extension": ".py",
   "mimetype": "text/x-python",
   "name": "python",
   "nbconvert_exporter": "python",
   "pygments_lexer": "ipython3",
   "version": "3.11.5"
  }
 },
 "nbformat": 4,
 "nbformat_minor": 2
}
