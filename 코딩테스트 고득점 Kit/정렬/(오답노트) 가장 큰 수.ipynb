{
 "cells": [
  {
   "cell_type": "markdown",
   "metadata": {},
   "source": [
    "(가장 큰 수) https://school.programmers.co.kr/learn/courses/30/lessons/42746"
   ]
  },
  {
   "cell_type": "markdown",
   "metadata": {},
   "source": [
    "### 내 풀이(시간초과)\n",
    "- 모든 permutation을 구한 후, 가장 큰 수를 찾는다.\n",
    "- permutation을 구하는데 시간복잡도가 O(n!)이므로 시간초과가 발생한다."
   ]
  },
  {
   "cell_type": "code",
   "execution_count": null,
   "metadata": {},
   "outputs": [],
   "source": [
    "from itertools import permutations\n",
    "def solution(numbers):\n",
    "    return max([\"\".join(p) for p in permutations([str(s) for s in numbers])])"
   ]
  },
  {
   "cell_type": "markdown",
   "metadata": {},
   "source": [
    "### 정답\n",
    "- 사전 순서 정렬을 이용한다\n",
    "- 3자리가 최대 이므로 3자리로 맞추기 위해서 x*3을 기준으로 정렬한다."
   ]
  },
  {
   "cell_type": "code",
   "execution_count": null,
   "metadata": {},
   "outputs": [],
   "source": [
    "from itertools import permutations\n",
    "def solution(numbers):\n",
    "    str_numbers = [str(number) for number in numbers]\n",
    "    return \"\".join(sorted(str_numbers, key = lambda x: x*3, reverse = True))\n"
   ]
  },
  {
   "cell_type": "code",
   "execution_count": null,
   "metadata": {},
   "outputs": [],
   "source": []
  }
 ],
 "metadata": {
  "language_info": {
   "name": "python"
  }
 },
 "nbformat": 4,
 "nbformat_minor": 2
}
