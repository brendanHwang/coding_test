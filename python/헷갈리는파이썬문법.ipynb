{
 "cells": [
  {
   "cell_type": "markdown",
   "metadata": {},
   "source": [
    "## 연산자\n",
    "\n",
    "Python에는 다양한 연산자들이 있으며, 이들은 크게 다음과 같은 카테고리로 분류됩니다:\n",
    "\n",
    "### 1. 산술 연산자 (Arithmetic Operators)\n",
    "- `+`: 덧셈\n",
    "- `-`: 뺄셈\n",
    "- `*`: 곱셈\n",
    "- `/`: 나눗셈\n",
    "- `//`: 정수 나눗셈 (소수점 이하 버림)\n",
    "- `%`: 모듈로 연산 (나머지)\n",
    "- `**`: 거듭제곱\n",
    "\n",
    "### 2. 비교 연산자 (Comparison Operators)\n",
    "- `==`: 같음\n",
    "- `!=`: 다름\n",
    "- `>`: 큼\n",
    "- `<`: 작음\n",
    "- `>=`: 크거나 같음\n",
    "- `<=`: 작거나 같음\n",
    "\n",
    "### 3. 할당 연산자 (Assignment Operators)\n",
    "- `=`: 값 할당\n",
    "- `+=`: 더하고 할당 (예: `a += b`는 `a = a + b`와 동일)\n",
    "- `-=`: 빼고 할당\n",
    "- `*=`: 곱하고 할당\n",
    "- `/=`: 나누고 할당\n",
    "- `%=`: 모듈로 연산 후 할당\n",
    "- `//=`: 정수 나눗셈 후 할당\n",
    "- `**=`: 거듭제곱 후 할당\n",
    "- `&=`: 비트 AND 연산 후 할당\n",
    "- `|=`: 비트 OR 연산 후 할당\n",
    "- `^=`: 비트 XOR 연산 후 할당\n",
    "- `>>=`: 오른쪽 비트 시프트 후 할당\n",
    "- `<<=`: 왼쪽 비트 시프트 후 할당\n",
    "\n",
    "### 4. 논리 연산자 (Logical Operators)\n",
    "- `and`: 논리 AND\n",
    "- `or`: 논리 OR (주의!)\n",
    "- `not`: 논리 NOT\n",
    "\n",
    "### 5. 비트 연산자 (Bitwise Operators)\n",
    "- `&`: 비트 AND\n",
    "- `|`: 비트 OR\n",
    "- `^`: 비트 XOR (배타적 OR)\n",
    "- `~`: 비트 NOT\n",
    "- `<<`: 비트를 왼쪽으로 시프트\n",
    "- `>>`: 비트를 오른쪽으로 시프트\n",
    "\n",
    "### 6. 멤버십 연산자 (Membership Operators)\n",
    "- `in`: 컨테이너에 요소가 있으면 참\n",
    "- `not in`: 컨테이너에 요소가 없으면 참\n",
    "\n",
    "### 7. 식별 연산자 (Identity Operators)\n",
    "- `is`: 두 객체의 식별자가 동일하면 참 (같은 객체인지 확인)\n",
    "- `is not`: 두 객체의 식별자가 다르면 참\n",
    "\n",
    "### 8. 기타 연산자\n",
    "- `()` (괄호): 연산 순서를 그룹화\n"
   ]
  },
  {
   "cell_type": "markdown",
   "metadata": {},
   "source": [
    "## 슬라이싱 연산\n",
    "`sorted_songs[:2]` 구문은 `sorted_songs` 리스트에서 처음 두 개의 요소를 가져옵니다. 만약 `sorted_songs`의 크기가 2보다 작은 경우에도, 이 구문은 문제없이 작동합니다. Python의 슬라이싱(slicing)은 범위가 리스트의 크기를 초과해도 오류를 발생시키지 않습니다. 대신 가능한 요소들만을 반환합니다. \n",
    "\n",
    "예를 들어:\n",
    "\n",
    "- `sorted_songs`의 길이가 2 이상인 경우, `sorted_songs[:2]`는 처음 두 요소를 반환합니다.\n",
    "- `sorted_songs`의 길이가 정확히 1인 경우, `sorted_songs[:2]`는 하나의 요소만 포함하는 리스트를 반환합니다.\n",
    "- `sorted_songs`가 비어 있는 경우, `sorted_songs[:2]`는 빈 리스트를 반환합니다.\n",
    "\n",
    "따라서 `answer.extend([song_id for song_id, _ in sorted_songs[:2]])` 구문은 `sorted_songs`의 길이에 상관없이 올바르게 작동합니다. 이 코드는 `sorted_songs` 리스트의 첫 두 요소(또는 가능한 모든 요소)에서 고유 번호(`song_id`)를 추출하여 `answer` 리스트에 추가합니다. \n",
    "\n",
    "문제의 요구 사항에 따라, 각 장르별로 최대 두 개의 노래를 선택하므로, 이 방법은 모든 경우에 적합합니다."
   ]
  },
  {
   "cell_type": "code",
   "execution_count": 1,
   "metadata": {},
   "outputs": [],
   "source": []
  },
  {
   "cell_type": "code",
   "execution_count": null,
   "metadata": {},
   "outputs": [],
   "source": []
  }
 ],
 "metadata": {
  "kernelspec": {
   "display_name": "Python 3",
   "language": "python",
   "name": "python3"
  },
  "language_info": {
   "codemirror_mode": {
    "name": "ipython",
    "version": 3
   },
   "file_extension": ".py",
   "mimetype": "text/x-python",
   "name": "python",
   "nbconvert_exporter": "python",
   "pygments_lexer": "ipython3",
   "version": "3.11.5"
  }
 },
 "nbformat": 4,
 "nbformat_minor": 2
}
