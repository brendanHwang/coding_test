{
 "cells": [
  {
   "cell_type": "markdown",
   "metadata": {},
   "source": [
    "(전화번호 목록) https://school.programmers.co.kr/learn/courses/30/lessons/42577"
   ]
  },
  {
   "cell_type": "markdown",
   "metadata": {},
   "source": [
    "## 나의 풀이1(틀림)\n",
    "- prefix의 조건 해석 잘못함\n",
    "- prefix는 포함되는 것이 아니라 앞에 붙는 것이다."
   ]
  },
  {
   "cell_type": "code",
   "execution_count": 1,
   "metadata": {},
   "outputs": [],
   "source": [
    "def isPrefix(str1, str2):\n",
    "    return str1 in str2 or str2 in str1\n",
    "\n",
    "def solution(phone_book):\n",
    "    n = len(phone_book) \n",
    "    for i in range(n):\n",
    "        for j in range(i+1,n):\n",
    "            if isPrefix(phone_book[i],phone_book[j]):\n",
    "                return False\n",
    "    return True"
   ]
  },
  {
   "cell_type": "markdown",
   "metadata": {},
   "source": [
    "## 나의 풀이2(틀림)\n",
    "- 시간초과"
   ]
  },
  {
   "cell_type": "code",
   "execution_count": 3,
   "metadata": {},
   "outputs": [],
   "source": [
    "def isPrefix(str1, str2):\n",
    "    return str1.startswith(str2) or str2.startswith(str1)\n",
    "\n",
    "def solution(phone_book):\n",
    "    n = len(phone_book) \n",
    "    for i in range(n):\n",
    "        for j in range(i+1,n):\n",
    "            if isPrefix(phone_book[i],phone_book[j]):\n",
    "                return False\n",
    "    return True"
   ]
  },
  {
   "cell_type": "markdown",
   "metadata": {},
   "source": [
    "## 정답\n",
    "- 정렬을 하게 되면 앞과 뒤를 비교 한번만 하면 된다."
   ]
  },
  {
   "cell_type": "code",
   "execution_count": 5,
   "metadata": {},
   "outputs": [],
   "source": [
    "def solution(phone_book):\n",
    "    phone_book.sort()  # 전화번호 목록을 사전순으로 정렬\n",
    "    for i in range(len(phone_book) - 1):\n",
    "        # 바로 다음 번호와 접두사 관계 확인\n",
    "        if phone_book[i+1].startswith(phone_book[i]):\n",
    "            return False\n",
    "    return True"
   ]
  },
  {
   "cell_type": "code",
   "execution_count": null,
   "metadata": {},
   "outputs": [],
   "source": []
  }
 ],
 "metadata": {
  "kernelspec": {
   "display_name": "Python 3",
   "language": "python",
   "name": "python3"
  },
  "language_info": {
   "codemirror_mode": {
    "name": "ipython",
    "version": 3
   },
   "file_extension": ".py",
   "mimetype": "text/x-python",
   "name": "python",
   "nbconvert_exporter": "python",
   "pygments_lexer": "ipython3",
   "version": "3.11.5"
  }
 },
 "nbformat": 4,
 "nbformat_minor": 2
}
