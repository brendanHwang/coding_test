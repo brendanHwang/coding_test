{
 "cells": [
  {
   "cell_type": "markdown",
   "metadata": {},
   "source": [
    "## 파이썬스러운 문법"
   ]
  },
  {
   "cell_type": "markdown",
   "metadata": {},
   "source": [
    "### 1.조건문 if 앞에 만족할 때 반환 값, else 뒤에 만족하지 않을 때 반환 값\n",
    "\n",
    "- 1 if num1 == num2 else -1"
   ]
  },
  {
   "cell_type": "markdown",
   "metadata": {},
   "source": [
    "### 2. my_string * k 문자열을 k번 반복"
   ]
  },
  {
   "cell_type": "markdown",
   "metadata": {},
   "source": [
    "### 3. 여러개의 조건문에 따라 반환값이 바뀌어야하는 경우"
   ]
  },
  {
   "cell_type": "code",
   "execution_count": 1,
   "metadata": {},
   "outputs": [],
   "source": [
    "def solution(ineq, eq, n, m):\n",
    "    conditions = {\n",
    "        ('>', \"=\"): lambda n,m: n>=m,\n",
    "        ('<' , '='): lambda n,m: n<=m,\n",
    "        ('>', '!'): lambda n,m: n>m,\n",
    "        ('<', '!'): lambda n,m: n<m\n",
    "    }\n",
    "    \n",
    "    return 1 if conditions[(ineq, eq)](n,m) else 0"
   ]
  },
  {
   "cell_type": "markdown",
   "metadata": {},
   "source": [
    "### 4. \"\".join(str(n) for n in num_list if n % 2 == 0) generator를 사용하여 메모리를 효율적으로 사용"
   ]
  },
  {
   "cell_type": "markdown",
   "metadata": {},
   "source": [
    "### 5.  elif 300000>price and price >= 100000 이것보다는 100000 <= price < 300000 이게 pythont스럽다"
   ]
  },
  {
   "cell_type": "markdown",
   "metadata": {},
   "source": [
    "### 6. num_list[::2] 짝수번째 원소만 가져오기 num_list[1::2] 홀수번째 원소만 가져오기"
   ]
  },
  {
   "cell_type": "markdown",
   "metadata": {},
   "source": [
    "### 7. comprehension을 사용하여 append를 사용하지 않고 리스트 생성하기"
   ]
  },
  {
   "cell_type": "code",
   "execution_count": 3,
   "metadata": {},
   "outputs": [],
   "source": [
    "def solution(array, commands):\n",
    "    return [sorted(array[command[0]-1:command[1]])[command[2]-1] for command in commands]\n"
   ]
  },
  {
   "cell_type": "markdown",
   "metadata": {},
   "source": []
  },
  {
   "cell_type": "markdown",
   "metadata": {},
   "source": []
  }
 ],
 "metadata": {
  "kernelspec": {
   "display_name": "Python 3",
   "language": "python",
   "name": "python3"
  },
  "language_info": {
   "codemirror_mode": {
    "name": "ipython",
    "version": 3
   },
   "file_extension": ".py",
   "mimetype": "text/x-python",
   "name": "python",
   "nbconvert_exporter": "python",
   "pygments_lexer": "ipython3",
   "version": "3.11.5"
  }
 },
 "nbformat": 4,
 "nbformat_minor": 2
}
