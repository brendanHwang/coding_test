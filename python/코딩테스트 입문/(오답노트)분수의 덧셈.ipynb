{
 "cells": [
  {
   "cell_type": "markdown",
   "metadata": {},
   "source": [
    "(분수의 덧셈) https://school.programmers.co.kr/learn/courses/30/lessons/120808"
   ]
  },
  {
   "cell_type": "markdown",
   "metadata": {},
   "source": [
    "## 풀지 못함\n",
    "- 최대 공약수를 이용해야하나? 까먹었는데.."
   ]
  },
  {
   "cell_type": "markdown",
   "metadata": {},
   "source": [
    "## 정답\n",
    "- 최소공약수는 gcd\n",
    "- gcd의 경우 python math에 있음\n",
    "- lcm은 최소공배수\n",
    "- lcm = a * b / gcd(a, b) 임을 이용"
   ]
  },
  {
   "cell_type": "code",
   "execution_count": null,
   "metadata": {},
   "outputs": [],
   "source": [
    "from math import gcd\n",
    "\n",
    "def solution(numer1, denom1, numer2, denom2):\n",
    "    lcm = denom1 * denom2 * gcd(denom1,denom2)\n",
    "    numer1 *= (lcm//denom1)\n",
    "    numer2 *= (lcm//denom2)\n",
    "    numer = numer1 + numer2\n",
    "    numer_lcm_gcd = gcd(numer,lcm)\n",
    "    return [numer//numer_lcm_gcd, lcm//numer_lcm_gcd]\n"
   ]
  }
 ],
 "metadata": {
  "language_info": {
   "name": "python"
  }
 },
 "nbformat": 4,
 "nbformat_minor": 2
}
