{
 "cells": [
  {
   "cell_type": "markdown",
   "metadata": {},
   "source": [
    "(홀짝 구분하기) https://school.programmers.co.kr/learn/courses/30/lessons/181944"
   ]
  },
  {
   "cell_type": "markdown",
   "metadata": {},
   "source": [
    "### 내 풀이\n",
    "- 아쉬운점 : formating을 사용했으나, 더 python 스러운 방법이 있다."
   ]
  },
  {
   "cell_type": "code",
   "execution_count": 1,
   "metadata": {},
   "outputs": [
    {
     "name": "stdout",
     "output_type": "stream",
     "text": [
      "100 is even\n"
     ]
    }
   ],
   "source": [
    "a = int(input())\n",
    "if a%2 ==0:\n",
    "    print(\"{} is even\".format(a))\n",
    "else:\n",
    "    print(\"{} is odd\".format(a))"
   ]
  },
  {
   "cell_type": "markdown",
   "metadata": {},
   "source": [
    "### 더 나은 풀이\n"
   ]
  },
  {
   "cell_type": "code",
   "execution_count": 2,
   "metadata": {},
   "outputs": [
    {
     "name": "stdout",
     "output_type": "stream",
     "text": [
      "100 is even\n"
     ]
    }
   ],
   "source": [
    "a = int(input())\n",
    "print(f\"{a} is {'even' if a%2==0 else 'odd'}\")"
   ]
  },
  {
   "cell_type": "markdown",
   "metadata": {},
   "source": []
  },
  {
   "cell_type": "code",
   "execution_count": null,
   "metadata": {},
   "outputs": [],
   "source": []
  }
 ],
 "metadata": {
  "kernelspec": {
   "display_name": "Python 3",
   "language": "python",
   "name": "python3"
  },
  "language_info": {
   "codemirror_mode": {
    "name": "ipython",
    "version": 3
   },
   "file_extension": ".py",
   "mimetype": "text/x-python",
   "name": "python",
   "nbconvert_exporter": "python",
   "pygments_lexer": "ipython3",
   "version": "3.11.5"
  }
 },
 "nbformat": 4,
 "nbformat_minor": 2
}
