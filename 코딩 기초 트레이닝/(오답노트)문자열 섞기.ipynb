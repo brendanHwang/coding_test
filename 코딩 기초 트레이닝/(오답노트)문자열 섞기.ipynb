{
 "cells": [
  {
   "cell_type": "markdown",
   "metadata": {},
   "source": [
    "(문자열 섞기) https://school.programmers.co.kr/learn/courses/30/lessons/181942"
   ]
  },
  {
   "cell_type": "markdown",
   "metadata": {},
   "source": [
    "### 오답\n",
    "- split(\"문자열\")를 하면 문자 단위로 쪼개지는 줄 알았는데 아님\n",
    "- list(\"문자열\")을 해야 문자 단위로 쪼개짐"
   ]
  },
  {
   "cell_type": "code",
   "execution_count": 14,
   "metadata": {},
   "outputs": [],
   "source": [
    "def solution(str1, str2):\n",
    "    str1_list = list(str1)\n",
    "    str2_list = list(str2)\n",
    "    \n",
    "    answer = ''\n",
    "    for s1,s2 in zip(str1_list,str2_list):\n",
    "        answer += (s1+s2)\n",
    "    \n",
    "    return answer"
   ]
  },
  {
   "cell_type": "code",
   "execution_count": null,
   "metadata": {},
   "outputs": [],
   "source": []
  }
 ],
 "metadata": {
  "kernelspec": {
   "display_name": "Python 3",
   "language": "python",
   "name": "python3"
  },
  "language_info": {
   "codemirror_mode": {
    "name": "ipython",
    "version": 3
   },
   "file_extension": ".py",
   "mimetype": "text/x-python",
   "name": "python",
   "nbconvert_exporter": "python",
   "pygments_lexer": "ipython3",
   "version": "3.11.5"
  }
 },
 "nbformat": 4,
 "nbformat_minor": 2
}
