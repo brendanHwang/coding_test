{
 "cells": [
  {
   "cell_type": "markdown",
   "metadata": {},
   "source": [
    "(최빈값 구하기) https://school.programmers.co.kr/learn/courses/30/lessons/120812"
   ]
  },
  {
   "cell_type": "markdown",
   "metadata": {},
   "source": [
    "## 내 풀이(틀림)\n",
    "- 최빈값을 찾는 부분이 틀림 (미해결..)"
   ]
  },
  {
   "cell_type": "code",
   "execution_count": 13,
   "metadata": {},
   "outputs": [],
   "source": [
    "from collections import Counter\n",
    "def solution(array):\n",
    "    array_counter = Counter(array)\n",
    "    max_cnt = 1\n",
    "    maxIdx=list(array_counter.keys())[0]\n",
    "    print(maxIdx)\n",
    "    for key in array_counter:\n",
    "        if array_counter[key] > array_counter[maxIdx]:\n",
    "            maxIdx = key\n",
    "            max_cnt = 1\n",
    "        elif array_counter[key] == array_counter[maxIdx]:\n",
    "            max_cnt = 2\n",
    "    return maxIdx if max_cnt == 1 else -1"
   ]
  },
  {
   "cell_type": "code",
   "execution_count": 14,
   "metadata": {},
   "outputs": [
    {
     "name": "stdout",
     "output_type": "stream",
     "text": [
      "1\n"
     ]
    },
    {
     "data": {
      "text/plain": [
       "3"
      ]
     },
     "execution_count": 14,
     "metadata": {},
     "output_type": "execute_result"
    }
   ],
   "source": [
    "solution([1, 2, 3, 3, 3, 4])"
   ]
  },
  {
   "cell_type": "markdown",
   "metadata": {},
   "source": [
    "## 정답\n",
    "- Counter를 사용하여 최빈값을 찾음\n",
    "- .items()를 사용하여 key, value를 가져옴"
   ]
  },
  {
   "cell_type": "code",
   "execution_count": null,
   "metadata": {},
   "outputs": [],
   "source": [
    "from collections import Counter\n",
    "def solution(array):\n",
    "    array_counter = Counter(array)\n",
    "    max_cnt = max(array_counter.values())\n",
    "    max_cnt_nums = [key for key,value in array_counter.items() if value==max_cnt]\n",
    "    \n",
    "    return max_cnt_nums[0] if len(max_cnt_nums) == 1 else -1"
   ]
  }
 ],
 "metadata": {
  "kernelspec": {
   "display_name": "Python 3",
   "language": "python",
   "name": "python3"
  },
  "language_info": {
   "codemirror_mode": {
    "name": "ipython",
    "version": 3
   },
   "file_extension": ".py",
   "mimetype": "text/x-python",
   "name": "python",
   "nbconvert_exporter": "python",
   "pygments_lexer": "ipython3",
   "version": "3.11.5"
  }
 },
 "nbformat": 4,
 "nbformat_minor": 2
}
